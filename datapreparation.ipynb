{
 "cells": [
  {
   "cell_type": "code",
   "id": "initial_id",
   "metadata": {
    "collapsed": true,
    "ExecuteTime": {
     "end_time": "2025-01-17T15:52:50.591023Z",
     "start_time": "2025-01-17T15:52:50.587589Z"
    }
   },
   "source": "import pandas as pd",
   "outputs": [],
   "execution_count": 18
  },
  {
   "metadata": {},
   "cell_type": "markdown",
   "source": "The original dataset can be downloaded from [socialstyrelsen](https://view.officeapps.live.com/op/view.aspx?src=https%3A%2F%2Fwww.socialstyrelsen.se%2Fglobalassets%2Fsharepoint-dokument%2Fdokument-webb%2Fklassifikationer-och-koder%2Furval-icf-kva-kommunal-halso-och-sjukvard-2025.xlsx&wdOrigin=BROWSELINK)",
   "id": "caf05c83993fbe07"
  },
  {
   "metadata": {
    "ExecuteTime": {
     "end_time": "2025-01-17T15:52:50.607932Z",
     "start_time": "2025-01-17T15:52:50.596029Z"
    }
   },
   "cell_type": "code",
   "source": [
    "class PrepareData:\n",
    "    def __init__(self):\n",
    "        self.df = pd.read_excel(r\"C:\\Users\\chris\\OneDrive\\Skrivbord\\urval-icf-kva-kommunal-halso-och-sjukvard-2025.xlsx\")\n",
    "\n",
    "        # Utredning/Bedömning/Uppföljning\n",
    "        self.first_part = [\n",
    "            [kva for kva in self.df.iloc[2:21][\"KVÅ-kod\"]],\n",
    "            [kva for kva in self.df.iloc[22:31][\"KVÅ-kod\"]],\n",
    "            [\"PC001\"],\n",
    "            [kva for kva in self.df.iloc[33:44][\"KVÅ-kod\"]],\n",
    "            [kva for kva in self.df.iloc[45:64][\"KVÅ-kod\"]],\n",
    "            [kva for kva in self.df.iloc[65:74][\"KVÅ-kod\"]],\n",
    "            [kva for kva in self.df.iloc[75:83][\"KVÅ-kod\"]],\n",
    "            [kva for kva in self.df.iloc[84:90][\"KVÅ-kod\"]],\n",
    "            [kva for kva in self.df.iloc[91:94][\"KVÅ-kod\"]],\n",
    "            [kva for kva in self.df.iloc[95:98][\"KVÅ-kod\"]],\n",
    "            [kva for kva in self.df.iloc[99:103][\"KVÅ-kod\"]],\n",
    "            [kva for kva in self.df.iloc[104:108][\"KVÅ-kod\"]],\n",
    "            [kva for kva in self.df.iloc[109:122][\"KVÅ-kod\"]],\n",
    "            [kva for kva in self.df.iloc[123:132][\"KVÅ-kod\"]],\n",
    "            [kva for kva in self.df.iloc[133:141][\"KVÅ-kod\"]],\n",
    "            [kva for kva in self.df.iloc[142:147][\"KVÅ-kod\"]],\n",
    "            [kva for kva in self.df.iloc[148:150][\"KVÅ-kod\"]],\n",
    "            [kva for kva in self.df.iloc[151:154][\"KVÅ-kod\"]],\n",
    "            [kva for kva in self.df.iloc[155:164][\"KVÅ-kod\"]],\n",
    "            [kva for kva in self.df.iloc[165:171][\"KVÅ-kod\"]],\n",
    "            [\"AV117\"]\n",
    "        ]\n",
    "\n",
    "        # Behandling/Åtgärdande\n",
    "        self.second_part = [\n",
    "            [kva for kva in self.df.iloc[175:189][\"KVÅ-kod\"]],\n",
    "            [kva for kva in self.df.iloc[190:204][\"KVÅ-kod\"]],\n",
    "            [\"QC000\"],\n",
    "            [kva for kva in self.df.iloc[206:224][\"KVÅ-kod\"]],\n",
    "            [kva for kva in self.df.iloc[225:255][\"KVÅ-kod\"]],\n",
    "            [kva for kva in self.df.iloc[256:274][\"KVÅ-kod\"]],\n",
    "            [kva for kva in self.df.iloc[275:284][\"KVÅ-kod\"]],\n",
    "            [kva for kva in self.df.iloc[285:298][\"KVÅ-kod\"]],\n",
    "            [kva for kva in self.df.iloc[299:302][\"KVÅ-kod\"]],\n",
    "            [kva for kva in self.df.iloc[303:306][\"KVÅ-kod\"]],\n",
    "            [kva for kva in self.df.iloc[307:313][\"KVÅ-kod\"]],\n",
    "            [\"QL000\"],\n",
    "            [kva for kva in self.df.iloc[315:328][\"KVÅ-kod\"]],\n",
    "            [kva for kva in self.df.iloc[330:374][\"KVÅ-kod\"]],\n",
    "            [kva for kva in self.df.iloc[375:384][\"KVÅ-kod\"]],\n",
    "            [kva for kva in self.df.iloc[385:389][\"KVÅ-kod\"]],\n",
    "            [kva for kva in self.df.iloc[390:393][\"KVÅ-kod\"]],\n",
    "            [kva for kva in self.df.iloc[394:396][\"KVÅ-kod\"]],\n",
    "            [kva for kva in self.df.iloc[397:419][\"KVÅ-kod\"]],\n",
    "            [kva for kva in self.df.iloc[420:444][\"KVÅ-kod\"]],\n",
    "            [kva for kva in self.df.iloc[445:448][\"KVÅ-kod\"]],\n",
    "            [kva for kva in self.df.iloc[450:468][\"KVÅ-kod\"]],\n",
    "            [kva for kva in self.df.iloc[469:477][\"KVÅ-kod\"]],\n",
    "            [kva for kva in self.df.iloc[478:494][\"KVÅ-kod\"]],\n",
    "        ]\n",
    "\n",
    "    def drop_unnecessary(self):\n",
    "        self.df = self.df.drop(\n",
    "            [\"Nivåer\", \"Urval\", \"ICF-kod\", \"Kommentar - Ändring i KVÅ-urval 2025\", \"Kommentar - Information\"], axis=1)\n",
    "\n",
    "    def return_chapters(self, code):\n",
    "        labels = [\n",
    "            \"Utredning av psykiska funktioner\",\n",
    "            \"Utredning av sinnesfunktioner och smärta\",\n",
    "            \"Utredning av röst och talfunktioner\",\n",
    "            \"Utredning av hjärt-kärlfunktioner, blodbildnings- och immunsystemsfunktioner och andningsfunktioner\",\n",
    "            \"Utredning av matsmältnings- och ämnesomsättningsfunktioner och endokrina funktioner\",\n",
    "            \"Utredning av funktioner i köns- och urinorganen samt reproduktiva funktioner\",\n",
    "            \"Utredning av neuromuskuloskeletala och rörelserelaterade funktioner\",\n",
    "            \"Utredning av funktioner i huden och därmed relaterade strukturer\",\n",
    "            \"Utredande åtgärder som kan förekomma till flera områden gällande kroppsfunktioner\",\n",
    "            \"Utredning av lärande och tillämpning av kunskap\",\n",
    "            \"Utredning av genomförande av allmänna uppgifter och krav\",\n",
    "            \"Utredning av förmåga att kommunicera\",\n",
    "            \"Utredning av förmåga att förflytta sig\",\n",
    "            \"Utredning av personlig vård\",\n",
    "            \"Utredning av hemliv\",\n",
    "            \"Utredning av mellanmänskliga interaktioner och relationer\",\n",
    "            \"Utredning av arbets-, studie- och ekonomiskt liv\",\n",
    "            \"Utredning av socialt och medborgerligt liv\",\n",
    "            \"Utredning av omgivningsfaktorer\",\n",
    "            \"Utredande/uppföljande åtgärder kopplade till läkemedel\",\n",
    "            \"Andra utredande/uppföljande åtgärder\",\n",
    "            \"Behandling relaterad till psykiska funktioner\",\n",
    "            \"Behandling av sinnesfunktioner och smärta\",\n",
    "            \"Behandling relaterad till röst- och talfunktioner\",\n",
    "            \"Behandling relaterad till funktioner i hjärt-, kärl-, blodbildnings-, andnings- och immunologiska system\",\n",
    "            \"Behandling relaterad till matsmältnings-, ämnesomsättnings- och endokrina funktioner\",\n",
    "            \"Behandling relaterad till funktioner i köns- och urinorgan samt reproduktiva funktioner\",\n",
    "            \"Behandling relaterad till rörelsefunktioner\",\n",
    "            \"Behandling relaterad till funktioner i huden och därmed relaterade strukturer\",\n",
    "            \"Behandlande åtgärder som kan förekomma till flera områden gällande kroppsfunktioner\",\n",
    "            \"Stöd och träning i lärande och kunskapstillämpning\",\n",
    "            \"Stöd och träning i kravhantering\",\n",
    "            \"Stöd och träning i att kommunicera\",\n",
    "            \"Behandling relaterad till förflyttning\",\n",
    "            \"Behandling relaterad till personlig vård\",\n",
    "            \"Stöd och träning i hemliv\",\n",
    "            \"Stöd och träning i att samspela med andra\",\n",
    "            \"Stöd och träning relaterat till utbildning, arbete, sysselsättning och ekonomiskt liv\",\n",
    "            \"Stöd och/eller träning i socialt och medborgerligt liv\",\n",
    "            \"Anpassning och bearbetning av omgivningsfaktorer\",\n",
    "            \"Behandlande åtgärder kopplade till läkemedel\",\n",
    "            \"Andra behandlande åtgärder\",\n",
    "            \"Åtgärder gällande planer\",\n",
    "            \"Administrativ handläggning\",\n",
    "            \"Kontaktrelaterade åtgärder\",\n",
    "        ]\n",
    "\n",
    "        zipped = zip(list(self.first_part + self.second_part), labels)\n",
    "\n",
    "        for k, v in zipped:\n",
    "            if code in k:\n",
    "                return v\n",
    "\n",
    "    def add_chapters(self):\n",
    "        self.df[\"Avsnitt\"] = self.df[\"KVÅ-kod\"].apply(lambda code: self.return_chapters(code))\n",
    "\n",
    "    def take_care_of_null_values(self):\n",
    "        self.df[self.df[\"Beskrivningstext\"].isnull()] = self.df[self.df[\"Beskrivningstext\"].isnull()].fillna(\"-\")\n",
    "        self.df = self.df.dropna()\n",
    "        self.df = self.df.drop([0, 90, 164, 171, 173, 298, 419, 444, 448, 449, 468, 477, 494])\n",
    "\n",
    "    def reset_index(self):\n",
    "        self.df = self.df.reset_index(drop=True)\n",
    "\n",
    "    def return_titles(self, code):\n",
    "        a = (kva for kva in self.df.iloc[:152][\"KVÅ-kod\"])\n",
    "        b = (kva for kva in self.df.iloc[152:406][\"KVÅ-kod\"])\n",
    "\n",
    "        if code in a:\n",
    "            return \"Utredning/Bedömning/Uppföljning\"\n",
    "\n",
    "        elif code in b:\n",
    "            return \"Behandling/Åtgärdande\"\n",
    "\n",
    "        else:\n",
    "            return \"Övriga Åtgärder\"\n",
    "\n",
    "    def add_titles(self):\n",
    "        self.df[\"Huvudrubrik\"] = self.df[\"KVÅ-kod\"].apply(lambda code: self.return_titles(code))\n",
    "\n",
    "    def run(self):\n",
    "        self.drop_unnecessary()\n",
    "        self.add_chapters()\n",
    "        self.take_care_of_null_values()\n",
    "        self.reset_index()\n",
    "        self.add_titles()\n",
    "        return self.df\n"
   ],
   "id": "1da1bb1eab36a3b",
   "outputs": [],
   "execution_count": 19
  },
  {
   "metadata": {
    "ExecuteTime": {
     "end_time": "2025-01-17T15:52:51.166188Z",
     "start_time": "2025-01-17T15:52:50.616159Z"
    }
   },
   "cell_type": "code",
   "source": [
    "data_prep = PrepareData()\n",
    "df = data_prep.run()"
   ],
   "id": "c70f3aa94ff3ef29",
   "outputs": [],
   "execution_count": 20
  },
  {
   "metadata": {
    "ExecuteTime": {
     "end_time": "2025-01-17T15:52:51.183283Z",
     "start_time": "2025-01-17T15:52:51.175821Z"
    }
   },
   "cell_type": "code",
   "source": "df.isnull().sum()",
   "id": "aed4d61672d0539a",
   "outputs": [
    {
     "data": {
      "text/plain": [
       "KVÅ-kod             0\n",
       "Titel/Kodtext       0\n",
       "Beskrivningstext    0\n",
       "Avsnitt             0\n",
       "Huvudrubrik         0\n",
       "dtype: int64"
      ]
     },
     "execution_count": 21,
     "metadata": {},
     "output_type": "execute_result"
    }
   ],
   "execution_count": 21
  },
  {
   "metadata": {
    "ExecuteTime": {
     "end_time": "2025-01-17T15:52:51.225601Z",
     "start_time": "2025-01-17T15:52:51.218062Z"
    }
   },
   "cell_type": "code",
   "source": "df.info()",
   "id": "dae4414d9208bfd0",
   "outputs": [
    {
     "name": "stdout",
     "output_type": "stream",
     "text": [
      "<class 'pandas.core.frame.DataFrame'>\n",
      "RangeIndex: 448 entries, 0 to 447\n",
      "Data columns (total 5 columns):\n",
      " #   Column            Non-Null Count  Dtype \n",
      "---  ------            --------------  ----- \n",
      " 0   KVÅ-kod           448 non-null    object\n",
      " 1   Titel/Kodtext     448 non-null    object\n",
      " 2   Beskrivningstext  448 non-null    object\n",
      " 3   Avsnitt           448 non-null    object\n",
      " 4   Huvudrubrik       448 non-null    object\n",
      "dtypes: object(5)\n",
      "memory usage: 17.6+ KB\n"
     ]
    }
   ],
   "execution_count": 22
  },
  {
   "metadata": {
    "ExecuteTime": {
     "end_time": "2025-01-17T15:52:51.293102Z",
     "start_time": "2025-01-17T15:52:51.287935Z"
    }
   },
   "cell_type": "code",
   "source": "df[\"Avsnitt\"].unique()",
   "id": "6b1ad160401253da",
   "outputs": [
    {
     "data": {
      "text/plain": [
       "array(['Utredning av psykiska funktioner',\n",
       "       'Utredning av sinnesfunktioner och smärta',\n",
       "       'Utredning av röst och talfunktioner',\n",
       "       'Utredning av hjärt-kärlfunktioner, blodbildnings- och immunsystemsfunktioner och andningsfunktioner',\n",
       "       'Utredning av matsmältnings- och ämnesomsättningsfunktioner och endokrina funktioner',\n",
       "       'Utredning av funktioner i köns- och urinorganen samt reproduktiva funktioner',\n",
       "       'Utredning av neuromuskuloskeletala och rörelserelaterade funktioner',\n",
       "       'Utredning av funktioner i huden och därmed relaterade strukturer',\n",
       "       'Utredande åtgärder som kan förekomma till flera områden gällande kroppsfunktioner',\n",
       "       'Utredning av lärande och tillämpning av kunskap',\n",
       "       'Utredning av genomförande av allmänna uppgifter och krav',\n",
       "       'Utredning av förmåga att kommunicera',\n",
       "       'Utredning av förmåga att förflytta sig',\n",
       "       'Utredning av personlig vård', 'Utredning av hemliv',\n",
       "       'Utredning av mellanmänskliga interaktioner och relationer',\n",
       "       'Utredning av arbets-, studie- och ekonomiskt liv',\n",
       "       'Utredning av socialt och medborgerligt liv',\n",
       "       'Utredning av omgivningsfaktorer',\n",
       "       'Utredande/uppföljande åtgärder kopplade till läkemedel',\n",
       "       'Andra utredande/uppföljande åtgärder',\n",
       "       'Behandling relaterad till psykiska funktioner',\n",
       "       'Behandling av sinnesfunktioner och smärta',\n",
       "       'Behandling relaterad till röst- och talfunktioner',\n",
       "       'Behandling relaterad till funktioner i hjärt-, kärl-, blodbildnings-, andnings- och immunologiska system',\n",
       "       'Behandling relaterad till matsmältnings-, ämnesomsättnings- och endokrina funktioner',\n",
       "       'Behandling relaterad till funktioner i köns- och urinorgan samt reproduktiva funktioner',\n",
       "       'Behandling relaterad till rörelsefunktioner',\n",
       "       'Behandling relaterad till funktioner i huden och därmed relaterade strukturer',\n",
       "       'Behandlande åtgärder som kan förekomma till flera områden gällande kroppsfunktioner',\n",
       "       'Stöd och träning i lärande och kunskapstillämpning',\n",
       "       'Stöd och träning i kravhantering',\n",
       "       'Stöd och träning i att kommunicera',\n",
       "       'Behandling relaterad till förflyttning',\n",
       "       'Behandling relaterad till personlig vård',\n",
       "       'Stöd och träning i hemliv',\n",
       "       'Stöd och träning i att samspela med andra',\n",
       "       'Stöd och träning relaterat till utbildning, arbete, sysselsättning och ekonomiskt liv',\n",
       "       'Stöd och/eller träning i socialt och medborgerligt liv',\n",
       "       'Anpassning och bearbetning av omgivningsfaktorer',\n",
       "       'Behandlande åtgärder kopplade till läkemedel',\n",
       "       'Andra behandlande åtgärder', 'Åtgärder gällande planer',\n",
       "       'Administrativ handläggning', 'Kontaktrelaterade åtgärder'],\n",
       "      dtype=object)"
      ]
     },
     "execution_count": 23,
     "metadata": {},
     "output_type": "execute_result"
    }
   ],
   "execution_count": 23
  },
  {
   "metadata": {
    "ExecuteTime": {
     "end_time": "2025-01-17T15:52:51.337413Z",
     "start_time": "2025-01-17T15:52:51.332506Z"
    }
   },
   "cell_type": "code",
   "source": "df[\"Avsnitt\"].nunique()",
   "id": "46e5df63a81b675d",
   "outputs": [
    {
     "data": {
      "text/plain": [
       "45"
      ]
     },
     "execution_count": 24,
     "metadata": {},
     "output_type": "execute_result"
    }
   ],
   "execution_count": 24
  },
  {
   "metadata": {
    "ExecuteTime": {
     "end_time": "2025-01-17T15:52:51.376410Z",
     "start_time": "2025-01-17T15:52:51.366141Z"
    }
   },
   "cell_type": "code",
   "source": "df.describe()",
   "id": "392451fe4dda0a2b",
   "outputs": [
    {
     "data": {
      "text/plain": [
       "       KVÅ-kod         Titel/Kodtext Beskrivningstext  \\\n",
       "count      448                   448              448   \n",
       "unique     448                   448              411   \n",
       "top      XT003  Remiss till tandvård                -   \n",
       "freq         1                     1               29   \n",
       "\n",
       "                                         Avsnitt            Huvudrubrik  \n",
       "count                                        448                    448  \n",
       "unique                                        45                      3  \n",
       "top     Behandling relaterad till personlig vård  Behandling/Åtgärdande  \n",
       "freq                                          44                    254  "
      ],
      "text/html": [
       "<div>\n",
       "<style scoped>\n",
       "    .dataframe tbody tr th:only-of-type {\n",
       "        vertical-align: middle;\n",
       "    }\n",
       "\n",
       "    .dataframe tbody tr th {\n",
       "        vertical-align: top;\n",
       "    }\n",
       "\n",
       "    .dataframe thead th {\n",
       "        text-align: right;\n",
       "    }\n",
       "</style>\n",
       "<table border=\"1\" class=\"dataframe\">\n",
       "  <thead>\n",
       "    <tr style=\"text-align: right;\">\n",
       "      <th></th>\n",
       "      <th>KVÅ-kod</th>\n",
       "      <th>Titel/Kodtext</th>\n",
       "      <th>Beskrivningstext</th>\n",
       "      <th>Avsnitt</th>\n",
       "      <th>Huvudrubrik</th>\n",
       "    </tr>\n",
       "  </thead>\n",
       "  <tbody>\n",
       "    <tr>\n",
       "      <th>count</th>\n",
       "      <td>448</td>\n",
       "      <td>448</td>\n",
       "      <td>448</td>\n",
       "      <td>448</td>\n",
       "      <td>448</td>\n",
       "    </tr>\n",
       "    <tr>\n",
       "      <th>unique</th>\n",
       "      <td>448</td>\n",
       "      <td>448</td>\n",
       "      <td>411</td>\n",
       "      <td>45</td>\n",
       "      <td>3</td>\n",
       "    </tr>\n",
       "    <tr>\n",
       "      <th>top</th>\n",
       "      <td>XT003</td>\n",
       "      <td>Remiss till tandvård</td>\n",
       "      <td>-</td>\n",
       "      <td>Behandling relaterad till personlig vård</td>\n",
       "      <td>Behandling/Åtgärdande</td>\n",
       "    </tr>\n",
       "    <tr>\n",
       "      <th>freq</th>\n",
       "      <td>1</td>\n",
       "      <td>1</td>\n",
       "      <td>29</td>\n",
       "      <td>44</td>\n",
       "      <td>254</td>\n",
       "    </tr>\n",
       "  </tbody>\n",
       "</table>\n",
       "</div>"
      ]
     },
     "execution_count": 25,
     "metadata": {},
     "output_type": "execute_result"
    }
   ],
   "execution_count": 25
  },
  {
   "metadata": {
    "ExecuteTime": {
     "end_time": "2025-01-17T15:52:51.415827Z",
     "start_time": "2025-01-17T15:52:51.407684Z"
    }
   },
   "cell_type": "code",
   "source": "df.to_csv(\"urval_kva_2025.csv\", index=False, encoding=\"UTF-8\")",
   "id": "505b57c971c4cc1d",
   "outputs": [],
   "execution_count": 26
  },
  {
   "metadata": {
    "ExecuteTime": {
     "end_time": "2025-01-17T15:52:51.454938Z",
     "start_time": "2025-01-17T15:52:51.451541Z"
    }
   },
   "cell_type": "code",
   "source": "df2 = df.copy()",
   "id": "6baff80065b1e9ed",
   "outputs": [],
   "execution_count": 27
  },
  {
   "metadata": {
    "ExecuteTime": {
     "end_time": "2025-01-17T15:52:51.506348Z",
     "start_time": "2025-01-17T15:52:51.501323Z"
    }
   },
   "cell_type": "code",
   "source": "df2.set_index([\"Huvudrubrik\", \"Avsnitt\"], inplace=True)",
   "id": "d000d11b1efe22bc",
   "outputs": [],
   "execution_count": 28
  },
  {
   "metadata": {
    "ExecuteTime": {
     "end_time": "2025-01-17T15:52:51.531289Z",
     "start_time": "2025-01-17T15:52:51.523870Z"
    }
   },
   "cell_type": "code",
   "source": "df2.to_csv(\"urval_kva_2025v2.csv\")",
   "id": "78afdf33e01a84dc",
   "outputs": [],
   "execution_count": 29
  }
 ],
 "metadata": {
  "kernelspec": {
   "display_name": "Python 3",
   "language": "python",
   "name": "python3"
  },
  "language_info": {
   "codemirror_mode": {
    "name": "ipython",
    "version": 2
   },
   "file_extension": ".py",
   "mimetype": "text/x-python",
   "name": "python",
   "nbconvert_exporter": "python",
   "pygments_lexer": "ipython2",
   "version": "2.7.6"
  }
 },
 "nbformat": 4,
 "nbformat_minor": 5
}
